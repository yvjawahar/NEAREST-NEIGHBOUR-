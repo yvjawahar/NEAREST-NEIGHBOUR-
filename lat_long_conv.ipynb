{
 "cells": [
  {
   "attachments": {},
   "cell_type": "markdown",
   "metadata": {},
   "source": [
    "LATITUDE TO LONGITUDE CONVERSION TO X-Y COORDINATES\n"
   ]
  },
  {
   "cell_type": "code",
   "execution_count": 1,
   "metadata": {},
   "outputs": [],
   "source": [
    "from math import radians, cos, sin, asin, sqrt\n",
    "import matplotlib.pyplot as plt\n",
    "import numpy as np \n",
    "import random\n",
    "import math"
   ]
  },
  {
   "cell_type": "code",
   "execution_count": 2,
   "metadata": {},
   "outputs": [
    {
     "name": "stdout",
     "output_type": "stream",
     "text": [
      "0.000937737693831944\n",
      "0.0002272211485732456\n"
     ]
    }
   ],
   "source": [
    "lat1 = 13.478947214690136\n",
    "lat2 = 8.106106\n",
    "lon1 = 80.0706505658724\n",
    "lon2 =  77.466888\n",
    "#converting lat and lon to radians\n",
    "lon1 = radians(lon1)\n",
    "lon2 = radians(lon2)\n",
    "lat1 = radians(lat1)\n",
    "lat2 = radians(lat2)\n",
    "#taking number of divisions as inputs\n",
    "lat_n=int(input()) #100\n",
    "lon_n=int(input()) #200\n",
    "#space between lat and lon\n",
    "sp_lat=abs(lat1-lat2)/lat_n\n",
    "sp_long=abs(lon1-lon2)/lon_n\n",
    "print(sp_lat)\n",
    "print(sp_long)"
   ]
  },
  {
   "cell_type": "code",
   "execution_count": 3,
   "metadata": {},
   "outputs": [],
   "source": [
    "#choose random points from the list of coordinates \n",
    "random_points=[]\n",
    "for i in range(0,5000):\n",
    "   a=[]\n",
    "   x=random.uniform(lat1,lat2)\n",
    "   y=random.uniform(lon1,lon2)\n",
    "   a.append(x)\n",
    "   a.append(y)\n",
    "   random_points.append(a)\n",
    "# print(len(random_points))\n",
    "# print(random_points[0])\n"
   ]
  },
  {
   "cell_type": "code",
   "execution_count": null,
   "metadata": {},
   "outputs": [],
   "source": [
    "def distance(lat1, lat2, lon1, lon2): \n",
    "    # Haversine formula\n",
    "    dlon = lon2 - lon1\n",
    "    dlat = lat2 - lat1\n",
    "    a = sin(dlat / 2)**2 + cos(lat1) * cos(lat2) * sin(dlon / 2)**2\n",
    "    c = 2 * asin(sqrt(a))\n",
    "    # Radius of earth in kilometers\n",
    "    r = 6371\n",
    "    # calculate the result\n",
    "    return(c * r)\n",
    "    \n",
    "\n",
    "#getting 4 closest points\n",
    "def dict_modify(result):\n",
    "    sorted_result=sorted(result.items(), key=lambda x:x[1])\n",
    "    sorted_result=sorted_result[1:5]\n",
    "    closest_points=[]\n",
    "    for i in range(0,len(sorted_result)):\n",
    "        closest_points.append(sorted_result[i][0])\n",
    "    #print(closest_points)\n",
    "    return closest_points\n",
    "\n",
    "\n",
    "#loop to find closest points for each random points\n",
    "fin_result={}\n",
    "for i in range(0,len(random_points)):\n",
    "     #print(i)\n",
    "     result={}\n",
    "     for j in np.arange(lat2,lat1,sp_lat):\n",
    "         dup=[]\n",
    "         dup.append(j)\n",
    "         for k in np.arange(lon2,lon1,sp_long):\n",
    "             dist=distance(random_points[i][0],j,random_points[i][1],k)\n",
    "             dup.append(k)\n",
    "             p=str(dup)\n",
    "             result[p]=dist\n",
    "             dup.pop(1)\n",
    "     fin_result[tuple(random_points[i])]=dict_modify(result)\n",
    "print(fin_result)\n",
    "\n",
    "#keys-randomly generated points\n",
    "#values-4 closest points to that key\n",
    "    \n"
   ]
  },
  {
   "cell_type": "code",
   "execution_count": 6,
   "metadata": {},
   "outputs": [
    {
     "name": "stdout",
     "output_type": "stream",
     "text": [
      "5000\n"
     ]
    }
   ],
   "source": [
    "print(len(fin_result))"
   ]
  },
  {
   "attachments": {},
   "cell_type": "markdown",
   "metadata": {},
   "source": [
    "EXPORTING RESULTS TO CSV FILE\n"
   ]
  },
  {
   "cell_type": "code",
   "execution_count": 7,
   "metadata": {},
   "outputs": [],
   "source": [
    "import csv\n",
    "import pandas as pd\n",
    "import ast\n"
   ]
  },
  {
   "cell_type": "code",
   "execution_count": 8,
   "metadata": {},
   "outputs": [],
   "source": [
    "#creating a csv file namely \"proper_nndataset.csv\" and adding headers\n",
    "with open('5000_nndataset.csv', 'w') as testfile:\n",
    "    field_names = ['rx','ry','c1x', 'c1y','c2x','c2y','c3x','c3y','c4x','c4y']\n",
    "    writer = csv.DictWriter(testfile, fieldnames=field_names)\n",
    "    writer.writeheader()"
   ]
  },
  {
   "cell_type": "code",
   "execution_count": 9,
   "metadata": {},
   "outputs": [
    {
     "data": {
      "text/html": [
       "<div>\n",
       "<style scoped>\n",
       "    .dataframe tbody tr th:only-of-type {\n",
       "        vertical-align: middle;\n",
       "    }\n",
       "\n",
       "    .dataframe tbody tr th {\n",
       "        vertical-align: top;\n",
       "    }\n",
       "\n",
       "    .dataframe thead th {\n",
       "        text-align: right;\n",
       "    }\n",
       "</style>\n",
       "<table border=\"1\" class=\"dataframe\">\n",
       "  <thead>\n",
       "    <tr style=\"text-align: right;\">\n",
       "      <th></th>\n",
       "      <th>rx</th>\n",
       "      <th>ry</th>\n",
       "      <th>c1x</th>\n",
       "      <th>c1y</th>\n",
       "      <th>c2x</th>\n",
       "      <th>c2y</th>\n",
       "      <th>c3x</th>\n",
       "      <th>c3y</th>\n",
       "      <th>c4x</th>\n",
       "      <th>c4y</th>\n",
       "    </tr>\n",
       "  </thead>\n",
       "  <tbody>\n",
       "  </tbody>\n",
       "</table>\n",
       "</div>"
      ],
      "text/plain": [
       "Empty DataFrame\n",
       "Columns: [rx, ry, c1x, c1y, c2x, c2y, c3x, c3y, c4x, c4y]\n",
       "Index: []"
      ]
     },
     "execution_count": 9,
     "metadata": {},
     "output_type": "execute_result"
    }
   ],
   "source": [
    "#converting csv to dataframe to update the csv file with results\n",
    "df = pd.read_csv(\"5000_nndataset.csv\") \n",
    "df.head()"
   ]
  },
  {
   "attachments": {},
   "cell_type": "markdown",
   "metadata": {},
   "source": [
    "rx and ry : x and y coordinates of 1000 randomly chosen points\n",
    "\n",
    "c1x and c1y: x and y coordinates of first closest point\n",
    "\n",
    "c2x and c2y: x and y coordinates of second closest point\n",
    "\n",
    "c3x and c3y: x and y coordinates of third closest point\n",
    "\n",
    "c4x and c4y: x and y coordinates of fourth closest point"
   ]
  },
  {
   "cell_type": "code",
   "execution_count": 10,
   "metadata": {},
   "outputs": [],
   "source": [
    "#filling the column rx and ry using keys of dictionary\n",
    "rx=[]\n",
    "ry=[]\n",
    "for key in fin_result:\n",
    "    rx.append(key[0])\n",
    "    ry.append(key[1])\n",
    "df[\"rx\"]=rx\n",
    "df[\"ry\"]=ry"
   ]
  },
  {
   "cell_type": "code",
   "execution_count": 11,
   "metadata": {},
   "outputs": [],
   "source": [
    "#Separating the four closest points\n",
    "cp_one=[]\n",
    "cp_two=[]\n",
    "cp_three=[]\n",
    "cp_four=[]\n",
    "for points in fin_result.values():\n",
    "    x = ast.literal_eval(points[0])\n",
    "    y = ast.literal_eval(points[1])\n",
    "    z = ast.literal_eval(points[2])\n",
    "    w = ast.literal_eval(points[3])\n",
    "    cp_one.append(x)\n",
    "    cp_two.append(y)\n",
    "    cp_three.append(z)\n",
    "    cp_four.append(w)\n",
    "  "
   ]
  },
  {
   "cell_type": "code",
   "execution_count": 12,
   "metadata": {},
   "outputs": [],
   "source": [
    "#Separating x-y coordinates of 4 separated points\n",
    "\n",
    "#c1-point\n",
    "c1x=[]\n",
    "c1y=[]\n",
    "for i in cp_one:\n",
    "    c1x.append(i[0])\n",
    "    c1y.append(i[1])\n",
    "df[\"c1x\"]=c1x\n",
    "df[\"c1y\"]=c1y\n",
    "#c2-point\n",
    "c2x=[]\n",
    "c2y=[]\n",
    "for i in cp_two:\n",
    "    c2x.append(i[0])\n",
    "    c2y.append(i[1])\n",
    "df[\"c2x\"]=c2x\n",
    "df[\"c2y\"]=c2y\n",
    "#c3-point\n",
    "c3x=[]\n",
    "c3y=[]\n",
    "for i in cp_three:\n",
    "    c3x.append(i[0])\n",
    "    c3y.append(i[1])\n",
    "df[\"c3x\"]=c3x\n",
    "df[\"c3y\"]=c3y\n",
    "#c4-point\n",
    "c4x=[]\n",
    "c4y=[]\n",
    "for i in cp_four:\n",
    "    c4x.append(i[0])\n",
    "    c4y.append(i[1])\n",
    "df[\"c4x\"]=c4x\n",
    "df[\"c4y\"]=c4y\n"
   ]
  },
  {
   "cell_type": "code",
   "execution_count": 56,
   "metadata": {},
   "outputs": [],
   "source": [
    "#converting dataframe to csv file\n",
    "df.to_csv('5000_nndataset.csv')"
   ]
  },
  {
   "cell_type": "code",
   "execution_count": null,
   "metadata": {},
   "outputs": [],
   "source": []
  }
 ],
 "metadata": {
  "kernelspec": {
   "display_name": "Python 3",
   "language": "python",
   "name": "python3"
  },
  "language_info": {
   "codemirror_mode": {
    "name": "ipython",
    "version": 3
   },
   "file_extension": ".py",
   "mimetype": "text/x-python",
   "name": "python",
   "nbconvert_exporter": "python",
   "pygments_lexer": "ipython3",
   "version": "3.10.6"
  },
  "orig_nbformat": 4,
  "vscode": {
   "interpreter": {
    "hash": "fe753cc8db45e3262c00fe3ab824e10abbd283f1ea3cba17b9a95a6dc1eba13c"
   }
  }
 },
 "nbformat": 4,
 "nbformat_minor": 2
}
