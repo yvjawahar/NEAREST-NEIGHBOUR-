{
 "cells": [
  {
   "cell_type": "code",
   "execution_count": null,
   "metadata": {},
   "outputs": [],
   "source": [
    "%pip install tensorflow\n",
    "%pip install keras\n",
    "%pip install sklearn"
   ]
  },
  {
   "cell_type": "code",
   "execution_count": null,
   "metadata": {},
   "outputs": [],
   "source": [
    "%pip install -U scikit-learn scipy matplotlib"
   ]
  },
  {
   "cell_type": "code",
   "execution_count": 6,
   "metadata": {},
   "outputs": [],
   "source": [
    "import numpy as np\n",
    "from sklearn.neighbors import NearestNeighbors\n",
    "import tensorflow as tf\n",
    "import pandas as pd\n",
    "from tensorflow import keras\n",
    "from tensorflow.keras.layers import Input, Dense\n"
   ]
  },
  {
   "cell_type": "code",
   "execution_count": 7,
   "metadata": {},
   "outputs": [
    {
     "name": "stdout",
     "output_type": "stream",
     "text": [
      "         rx        ry       c1x       c1y       c2x       c2y       c3x  \\\n",
      "0  0.226941  1.370899  0.226812  1.370684  0.226812  1.371139  0.226812   \n",
      "1  0.204360  1.353463  0.204307  1.353643  0.204307  1.353188  0.204307   \n",
      "2  0.168900  1.388944  0.168673  1.389089  0.168673  1.388635  0.168673   \n",
      "3  0.148854  1.372571  0.148980  1.372729  0.148980  1.372275  0.148980   \n",
      "4  0.156869  1.365550  0.156482  1.365686  0.156482  1.365231  0.156482   \n",
      "\n",
      "        c3y       c4x       c4y  \n",
      "0  1.370457  0.226812  1.371366  \n",
      "1  1.353870  0.204307  1.352961  \n",
      "2  1.389317  0.168673  1.388408  \n",
      "3  1.372957  0.148980  1.372048  \n",
      "4  1.365913  0.157420  1.365458  \n"
     ]
    }
   ],
   "source": [
    "df=pd.read_csv('5000_nndataset.csv')\n",
    "#df.head()\n",
    "\n",
    "#for predicting two closest values\n",
    "df_raw=df.iloc[:,1:5]\n",
    "#for predicting 8 cloest values\n",
    "df_fin=df.iloc[:,1:]\n",
    "print(df_fin.head())\n",
    "# print(df_raw.head())\n",
    "# print(df.tail())"
   ]
  },
  {
   "cell_type": "code",
   "execution_count": 9,
   "metadata": {},
   "outputs": [
    {
     "name": "stdout",
     "output_type": "stream",
     "text": [
      "4000\n",
      "1000\n"
     ]
    }
   ],
   "source": [
    "# Split data into train and test sets\n",
    "train_ratio = 0.8\n",
    "n_train = int(5000 * train_ratio)\n",
    "data_train = df_raw[:n_train]\n",
    "data_test = df_raw[n_train:]\n",
    "d_tr=df_fin[:n_train]\n",
    "d_tt=df_fin[n_train:]\n",
    "print(len(d_tr))\n",
    "print(len(d_tt))\n"
   ]
  },
  {
   "cell_type": "code",
   "execution_count": null,
   "metadata": {},
   "outputs": [],
   "source": [
    "print(d_tt.head())\n",
    "print(d_tr.head())\n",
    "# print(data_test.head())"
   ]
  },
  {
   "cell_type": "code",
   "execution_count": 11,
   "metadata": {},
   "outputs": [],
   "source": [
    "# Define the deep learning model\n",
    "inputs = Input(shape=(2,))\n",
    "x = Dense(64, activation='relu')(inputs)\n",
    "x = Dense(64, activation='relu')(x)\n",
    "outputs = Dense(2)(x)\n",
    "model = keras.Model(inputs=inputs, outputs=outputs)\n"
   ]
  },
  {
   "cell_type": "code",
   "execution_count": 12,
   "metadata": {},
   "outputs": [
    {
     "name": "stdout",
     "output_type": "stream",
     "text": [
      "Epoch 1/50\n",
      "125/125 [==============================] - 1s 2ms/step - loss: 0.1510\n",
      "Epoch 2/50\n",
      "125/125 [==============================] - 0s 2ms/step - loss: 2.9504e-04\n",
      "Epoch 3/50\n",
      "125/125 [==============================] - 0s 2ms/step - loss: 2.9158e-04\n",
      "Epoch 4/50\n",
      "125/125 [==============================] - 0s 2ms/step - loss: 2.8600e-04\n",
      "Epoch 5/50\n",
      "125/125 [==============================] - 0s 2ms/step - loss: 2.8104e-04\n",
      "Epoch 6/50\n",
      "125/125 [==============================] - 0s 2ms/step - loss: 2.7367e-04\n",
      "Epoch 7/50\n",
      "125/125 [==============================] - 0s 2ms/step - loss: 2.6378e-04\n",
      "Epoch 8/50\n",
      "125/125 [==============================] - 0s 2ms/step - loss: 2.5440e-04\n",
      "Epoch 9/50\n",
      "125/125 [==============================] - 0s 2ms/step - loss: 2.4366e-04\n",
      "Epoch 10/50\n",
      "125/125 [==============================] - 0s 2ms/step - loss: 2.3037e-04\n",
      "Epoch 11/50\n",
      "125/125 [==============================] - 0s 3ms/step - loss: 2.1698e-04\n",
      "Epoch 12/50\n",
      "125/125 [==============================] - 0s 3ms/step - loss: 2.0031e-04\n",
      "Epoch 13/50\n",
      "125/125 [==============================] - 0s 2ms/step - loss: 1.8179e-04\n",
      "Epoch 14/50\n",
      "125/125 [==============================] - 0s 2ms/step - loss: 1.6050e-04\n",
      "Epoch 15/50\n",
      "125/125 [==============================] - 0s 2ms/step - loss: 1.3831e-04\n",
      "Epoch 16/50\n",
      "125/125 [==============================] - 0s 2ms/step - loss: 1.1484e-04\n",
      "Epoch 17/50\n",
      "125/125 [==============================] - 0s 2ms/step - loss: 8.8932e-05\n",
      "Epoch 18/50\n",
      "125/125 [==============================] - 0s 2ms/step - loss: 6.4629e-05\n",
      "Epoch 19/50\n",
      "125/125 [==============================] - 0s 2ms/step - loss: 4.4565e-05\n",
      "Epoch 20/50\n",
      "125/125 [==============================] - 0s 2ms/step - loss: 2.7856e-05\n",
      "Epoch 21/50\n",
      "125/125 [==============================] - 0s 2ms/step - loss: 1.6960e-05\n",
      "Epoch 22/50\n",
      "125/125 [==============================] - 0s 2ms/step - loss: 1.0411e-05\n",
      "Epoch 23/50\n",
      "125/125 [==============================] - 0s 2ms/step - loss: 6.8969e-06\n",
      "Epoch 24/50\n",
      "125/125 [==============================] - 0s 2ms/step - loss: 4.9710e-06\n",
      "Epoch 25/50\n",
      "125/125 [==============================] - 0s 2ms/step - loss: 4.0597e-06\n",
      "Epoch 26/50\n",
      "125/125 [==============================] - 0s 2ms/step - loss: 3.6739e-06\n",
      "Epoch 27/50\n",
      "125/125 [==============================] - 0s 1ms/step - loss: 3.5391e-06\n",
      "Epoch 28/50\n",
      "125/125 [==============================] - 0s 2ms/step - loss: 3.3777e-06\n",
      "Epoch 29/50\n",
      "125/125 [==============================] - 0s 1ms/step - loss: 3.3188e-06\n",
      "Epoch 30/50\n",
      "125/125 [==============================] - 0s 1ms/step - loss: 3.3241e-06\n",
      "Epoch 31/50\n",
      "125/125 [==============================] - 0s 1ms/step - loss: 3.2499e-06\n",
      "Epoch 32/50\n",
      "125/125 [==============================] - 0s 2ms/step - loss: 3.2259e-06\n",
      "Epoch 33/50\n",
      "125/125 [==============================] - 0s 2ms/step - loss: 3.1534e-06\n",
      "Epoch 34/50\n",
      "125/125 [==============================] - 0s 1ms/step - loss: 3.1719e-06\n",
      "Epoch 35/50\n",
      "125/125 [==============================] - 0s 1ms/step - loss: 3.1210e-06\n",
      "Epoch 36/50\n",
      "125/125 [==============================] - 0s 2ms/step - loss: 3.2615e-06\n",
      "Epoch 37/50\n",
      "125/125 [==============================] - 0s 2ms/step - loss: 3.0583e-06\n",
      "Epoch 38/50\n",
      "125/125 [==============================] - 0s 2ms/step - loss: 2.9973e-06\n",
      "Epoch 39/50\n",
      "125/125 [==============================] - 0s 2ms/step - loss: 3.1691e-06\n",
      "Epoch 40/50\n",
      "125/125 [==============================] - 0s 1ms/step - loss: 3.2213e-06\n",
      "Epoch 41/50\n",
      "125/125 [==============================] - 0s 2ms/step - loss: 2.9648e-06\n",
      "Epoch 42/50\n",
      "125/125 [==============================] - 0s 2ms/step - loss: 3.0006e-06\n",
      "Epoch 43/50\n",
      "125/125 [==============================] - 0s 1ms/step - loss: 2.9439e-06\n",
      "Epoch 44/50\n",
      "125/125 [==============================] - 0s 2ms/step - loss: 2.8753e-06\n",
      "Epoch 45/50\n",
      "125/125 [==============================] - 0s 2ms/step - loss: 2.9072e-06\n",
      "Epoch 46/50\n",
      "125/125 [==============================] - 0s 2ms/step - loss: 2.9045e-06\n",
      "Epoch 47/50\n",
      "125/125 [==============================] - 0s 2ms/step - loss: 2.9727e-06\n",
      "Epoch 48/50\n",
      "125/125 [==============================] - 0s 1ms/step - loss: 2.8329e-06\n",
      "Epoch 49/50\n",
      "125/125 [==============================] - 0s 2ms/step - loss: 2.9173e-06\n",
      "Epoch 50/50\n",
      "125/125 [==============================] - 0s 2ms/step - loss: 2.6919e-06\n"
     ]
    },
    {
     "data": {
      "text/plain": [
       "<keras.callbacks.History at 0x223272f1c30>"
      ]
     },
     "execution_count": 12,
     "metadata": {},
     "output_type": "execute_result"
    }
   ],
   "source": [
    "model.compile(loss='mean_squared_error', optimizer='adam')\n",
    "model.fit(x=data_train.iloc[:, 0:2], y=data_train.iloc[:, 2:], batch_size=32, epochs=50)"
   ]
  },
  {
   "cell_type": "code",
   "execution_count": 13,
   "metadata": {},
   "outputs": [
    {
     "name": "stdout",
     "output_type": "stream",
     "text": [
      "32/32 [==============================] - 0s 1ms/step\n"
     ]
    }
   ],
   "source": [
    "predictions = model.predict(data_test.iloc[:, :2])"
   ]
  },
  {
   "cell_type": "code",
   "execution_count": 14,
   "metadata": {},
   "outputs": [
    {
     "name": "stdout",
     "output_type": "stream",
     "text": [
      "Test MSE: c1x    6.759865e-07\n",
      "c1y    5.348852e-06\n",
      "dtype: float64\n"
     ]
    }
   ],
   "source": [
    "# Evaluate the model on the test set\n",
    "mse = np.mean((predictions - data_test.iloc[:, 2:])**2)\n",
    "print(\"Test MSE:\", mse)"
   ]
  },
  {
   "cell_type": "code",
   "execution_count": 15,
   "metadata": {},
   "outputs": [
    {
     "name": "stdout",
     "output_type": "stream",
     "text": [
      "[[0.16202512 1.3766087 ]\n",
      " [0.16654497 1.3641591 ]\n",
      " [0.21102375 1.3912508 ]\n",
      " ...\n",
      " [0.226343   1.3597659 ]\n",
      " [0.15006894 1.3671484 ]\n",
      " [0.18646419 1.3776193 ]]\n"
     ]
    }
   ],
   "source": [
    "print(predictions)"
   ]
  },
  {
   "attachments": {},
   "cell_type": "markdown",
   "metadata": {},
   "source": [
    "FINAL OUTPUT TRAINING\n"
   ]
  },
  {
   "cell_type": "code",
   "execution_count": 16,
   "metadata": {},
   "outputs": [],
   "source": [
    "inputs = Input(shape=(2,))\n",
    "x = Dense(64, activation='relu')(inputs)\n",
    "x = Dense(64, activation='relu')(x)\n",
    "outputs = Dense(8)(x)\n",
    "model = keras.Model(inputs=inputs, outputs=outputs)\n"
   ]
  },
  {
   "cell_type": "code",
   "execution_count": 17,
   "metadata": {},
   "outputs": [
    {
     "name": "stdout",
     "output_type": "stream",
     "text": [
      "Epoch 1/75\n",
      "125/125 [==============================] - 1s 2ms/step - loss: 0.1791\n",
      "Epoch 2/75\n",
      "125/125 [==============================] - 0s 2ms/step - loss: 3.4910e-04\n",
      "Epoch 3/75\n",
      "125/125 [==============================] - 0s 2ms/step - loss: 3.2752e-04\n",
      "Epoch 4/75\n",
      "125/125 [==============================] - 0s 2ms/step - loss: 3.0541e-04\n",
      "Epoch 5/75\n",
      "125/125 [==============================] - 0s 2ms/step - loss: 2.8634e-04\n",
      "Epoch 6/75\n",
      "125/125 [==============================] - 0s 2ms/step - loss: 2.5581e-04\n",
      "Epoch 7/75\n",
      "125/125 [==============================] - 0s 2ms/step - loss: 2.2777e-04\n",
      "Epoch 8/75\n",
      "125/125 [==============================] - 0s 2ms/step - loss: 1.9270e-04\n",
      "Epoch 9/75\n",
      "125/125 [==============================] - 0s 2ms/step - loss: 1.5368e-04\n",
      "Epoch 10/75\n",
      "125/125 [==============================] - 0s 2ms/step - loss: 1.1724e-04\n",
      "Epoch 11/75\n",
      "125/125 [==============================] - 0s 2ms/step - loss: 8.4360e-05\n",
      "Epoch 12/75\n",
      "125/125 [==============================] - 0s 2ms/step - loss: 5.5413e-05\n",
      "Epoch 13/75\n",
      "125/125 [==============================] - 0s 2ms/step - loss: 3.2981e-05\n",
      "Epoch 14/75\n",
      "125/125 [==============================] - 0s 2ms/step - loss: 1.3527e-05\n",
      "Epoch 15/75\n",
      "125/125 [==============================] - 0s 2ms/step - loss: 6.7681e-06\n",
      "Epoch 16/75\n",
      "125/125 [==============================] - 0s 2ms/step - loss: 5.0201e-06\n",
      "Epoch 17/75\n",
      "125/125 [==============================] - 0s 2ms/step - loss: 4.5600e-06\n",
      "Epoch 18/75\n",
      "125/125 [==============================] - 0s 2ms/step - loss: 4.3309e-06\n",
      "Epoch 19/75\n",
      "125/125 [==============================] - 0s 2ms/step - loss: 4.2092e-06\n",
      "Epoch 20/75\n",
      "125/125 [==============================] - 0s 3ms/step - loss: 4.2419e-06\n",
      "Epoch 21/75\n",
      "125/125 [==============================] - 0s 2ms/step - loss: 4.2781e-06\n",
      "Epoch 22/75\n",
      "125/125 [==============================] - 0s 2ms/step - loss: 4.1108e-06\n",
      "Epoch 23/75\n",
      "125/125 [==============================] - 0s 2ms/step - loss: 4.1737e-06\n",
      "Epoch 24/75\n",
      "125/125 [==============================] - 0s 2ms/step - loss: 4.1218e-06\n",
      "Epoch 25/75\n",
      "125/125 [==============================] - 0s 2ms/step - loss: 4.0402e-06\n",
      "Epoch 26/75\n",
      "125/125 [==============================] - 0s 2ms/step - loss: 4.1959e-06\n",
      "Epoch 27/75\n",
      "125/125 [==============================] - 0s 2ms/step - loss: 4.0084e-06\n",
      "Epoch 28/75\n",
      "125/125 [==============================] - 0s 1ms/step - loss: 4.1210e-06\n",
      "Epoch 29/75\n",
      "125/125 [==============================] - 0s 2ms/step - loss: 4.0169e-06\n",
      "Epoch 30/75\n",
      "125/125 [==============================] - 0s 2ms/step - loss: 4.0253e-06\n",
      "Epoch 31/75\n",
      "125/125 [==============================] - 0s 2ms/step - loss: 4.1274e-06\n",
      "Epoch 32/75\n",
      "125/125 [==============================] - 0s 2ms/step - loss: 3.9995e-06\n",
      "Epoch 33/75\n",
      "125/125 [==============================] - 0s 2ms/step - loss: 3.8899e-06\n",
      "Epoch 34/75\n",
      "125/125 [==============================] - 0s 1ms/step - loss: 3.9511e-06\n",
      "Epoch 35/75\n",
      "125/125 [==============================] - 0s 2ms/step - loss: 3.9524e-06\n",
      "Epoch 36/75\n",
      "125/125 [==============================] - 0s 2ms/step - loss: 4.0127e-06\n",
      "Epoch 37/75\n",
      "125/125 [==============================] - 0s 1ms/step - loss: 3.8634e-06\n",
      "Epoch 38/75\n",
      "125/125 [==============================] - 0s 2ms/step - loss: 3.8111e-06\n",
      "Epoch 39/75\n",
      "125/125 [==============================] - 0s 1ms/step - loss: 3.8884e-06\n",
      "Epoch 40/75\n",
      "125/125 [==============================] - 0s 2ms/step - loss: 3.7842e-06\n",
      "Epoch 41/75\n",
      "125/125 [==============================] - 0s 2ms/step - loss: 3.9493e-06\n",
      "Epoch 42/75\n",
      "125/125 [==============================] - 0s 3ms/step - loss: 4.0068e-06\n",
      "Epoch 43/75\n",
      "125/125 [==============================] - 0s 2ms/step - loss: 3.8148e-06\n",
      "Epoch 44/75\n",
      "125/125 [==============================] - 0s 2ms/step - loss: 3.7795e-06\n",
      "Epoch 45/75\n",
      "125/125 [==============================] - 0s 1ms/step - loss: 3.7177e-06\n",
      "Epoch 46/75\n",
      "125/125 [==============================] - 0s 2ms/step - loss: 3.6508e-06\n",
      "Epoch 47/75\n",
      "125/125 [==============================] - 0s 2ms/step - loss: 3.8004e-06\n",
      "Epoch 48/75\n",
      "125/125 [==============================] - 0s 2ms/step - loss: 3.8189e-06\n",
      "Epoch 49/75\n",
      "125/125 [==============================] - 0s 2ms/step - loss: 3.5894e-06\n",
      "Epoch 50/75\n",
      "125/125 [==============================] - 0s 2ms/step - loss: 3.8093e-06\n",
      "Epoch 51/75\n",
      "125/125 [==============================] - 0s 2ms/step - loss: 3.7420e-06\n",
      "Epoch 52/75\n",
      "125/125 [==============================] - 0s 2ms/step - loss: 3.1934e-06\n",
      "Epoch 53/75\n",
      "125/125 [==============================] - 0s 1ms/step - loss: 3.1350e-06\n",
      "Epoch 54/75\n",
      "125/125 [==============================] - 0s 2ms/step - loss: 3.6574e-06\n",
      "Epoch 55/75\n",
      "125/125 [==============================] - 0s 2ms/step - loss: 3.7837e-06\n",
      "Epoch 56/75\n",
      "125/125 [==============================] - 0s 1ms/step - loss: 3.2786e-06\n",
      "Epoch 57/75\n",
      "125/125 [==============================] - 0s 2ms/step - loss: 3.2307e-06\n",
      "Epoch 58/75\n",
      "125/125 [==============================] - 0s 1ms/step - loss: 3.2506e-06\n",
      "Epoch 59/75\n",
      "125/125 [==============================] - 0s 2ms/step - loss: 3.6527e-06\n",
      "Epoch 60/75\n",
      "125/125 [==============================] - 0s 1ms/step - loss: 3.0197e-06\n",
      "Epoch 61/75\n",
      "125/125 [==============================] - 0s 1ms/step - loss: 2.8157e-06\n",
      "Epoch 62/75\n",
      "125/125 [==============================] - 0s 2ms/step - loss: 2.7406e-06\n",
      "Epoch 63/75\n",
      "125/125 [==============================] - 0s 1ms/step - loss: 2.7129e-06\n",
      "Epoch 64/75\n",
      "125/125 [==============================] - 0s 2ms/step - loss: 2.4823e-06\n",
      "Epoch 65/75\n",
      "125/125 [==============================] - 0s 2ms/step - loss: 2.7066e-06\n",
      "Epoch 66/75\n",
      "125/125 [==============================] - 0s 2ms/step - loss: 2.6411e-06\n",
      "Epoch 67/75\n",
      "125/125 [==============================] - 0s 2ms/step - loss: 2.1965e-06\n",
      "Epoch 68/75\n",
      "125/125 [==============================] - 0s 2ms/step - loss: 2.2684e-06\n",
      "Epoch 69/75\n",
      "125/125 [==============================] - 0s 3ms/step - loss: 2.4120e-06\n",
      "Epoch 70/75\n",
      "125/125 [==============================] - 0s 2ms/step - loss: 3.0837e-06\n",
      "Epoch 71/75\n",
      "125/125 [==============================] - 0s 2ms/step - loss: 1.8615e-06\n",
      "Epoch 72/75\n",
      "125/125 [==============================] - 0s 2ms/step - loss: 2.3994e-06\n",
      "Epoch 73/75\n",
      "125/125 [==============================] - 0s 2ms/step - loss: 2.0388e-06\n",
      "Epoch 74/75\n",
      "125/125 [==============================] - 0s 2ms/step - loss: 1.5589e-06\n",
      "Epoch 75/75\n",
      "125/125 [==============================] - 0s 2ms/step - loss: 1.9510e-06\n"
     ]
    },
    {
     "data": {
      "text/plain": [
       "<keras.callbacks.History at 0x22328623e80>"
      ]
     },
     "execution_count": 17,
     "metadata": {},
     "output_type": "execute_result"
    }
   ],
   "source": [
    "model.compile(loss='mean_squared_error', optimizer='adam')\n",
    "# Train the model\n",
    "model.fit(x=d_tr.iloc[:, :2], y=d_tr.iloc[:, 2:], batch_size=32, epochs=75)"
   ]
  },
  {
   "cell_type": "code",
   "execution_count": 18,
   "metadata": {},
   "outputs": [
    {
     "name": "stdout",
     "output_type": "stream",
     "text": [
      "32/32 [==============================] - 0s 1ms/step\n"
     ]
    }
   ],
   "source": [
    "predictions = model.predict(d_tt.iloc[:, :2])"
   ]
  },
  {
   "cell_type": "code",
   "execution_count": 19,
   "metadata": {},
   "outputs": [
    {
     "name": "stdout",
     "output_type": "stream",
     "text": [
      "Test MSE: c1x    1.917128e-07\n",
      "c1y    4.139754e-06\n",
      "c2x    9.251503e-07\n",
      "c2y    3.717748e-06\n",
      "c3x    8.156354e-07\n",
      "c3y    3.373458e-06\n",
      "c4x    1.185643e-07\n",
      "c4y    4.335684e-06\n",
      "dtype: float64\n"
     ]
    }
   ],
   "source": [
    "mse = np.mean((predictions-d_tt.iloc[:, 2:])**2)\n",
    "print(\"Test MSE:\",mse)"
   ]
  },
  {
   "cell_type": "code",
   "execution_count": 20,
   "metadata": {},
   "outputs": [
    {
     "name": "stdout",
     "output_type": "stream",
     "text": [
      "[[0.16234303 1.3771782  0.16179888 ... 1.3770066  0.16257538 1.3773041 ]\n",
      " [0.16657004 1.3637583  0.16617788 ... 1.3634188  0.166734   1.3636482 ]\n",
      " [0.21179    1.3931     0.21102008 ... 1.3931645  0.2120871  1.3935695 ]\n",
      " ...\n",
      " [0.22637638 1.3591716  0.22598721 ... 1.3588139  0.2264993  1.359049  ]\n",
      " [0.15013471 1.3669412  0.14971948 ... 1.3666313  0.1503194  1.3668689 ]\n",
      " [0.1868532  1.3783307  0.1862753  ... 1.3781903  0.18708391 1.3785061 ]]\n"
     ]
    }
   ],
   "source": [
    "print(predictions)"
   ]
  },
  {
   "cell_type": "code",
   "execution_count": null,
   "metadata": {},
   "outputs": [],
   "source": []
  }
 ],
 "metadata": {
  "kernelspec": {
   "display_name": "Python 3",
   "language": "python",
   "name": "python3"
  },
  "language_info": {
   "codemirror_mode": {
    "name": "ipython",
    "version": 3
   },
   "file_extension": ".py",
   "mimetype": "text/x-python",
   "name": "python",
   "nbconvert_exporter": "python",
   "pygments_lexer": "ipython3",
   "version": "3.10.6"
  },
  "orig_nbformat": 4,
  "vscode": {
   "interpreter": {
    "hash": "fe753cc8db45e3262c00fe3ab824e10abbd283f1ea3cba17b9a95a6dc1eba13c"
   }
  }
 },
 "nbformat": 4,
 "nbformat_minor": 2
}
